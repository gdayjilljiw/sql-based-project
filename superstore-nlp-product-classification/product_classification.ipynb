{
  "nbformat": 4,
  "nbformat_minor": 0,
  "metadata": {
    "colab": {
      "provenance": [],
      "gpuType": "T4"
    },
    "kernelspec": {
      "name": "python3",
      "display_name": "Python 3"
    },
    "language_info": {
      "name": "python"
    },
    "accelerator": "GPU"
  },
  "cells": [
    {
      "cell_type": "markdown",
      "source": [
        "# NLP text classification -- product classification\n",
        "\n",
        "### Problem Statement: classify products by sub-category using product names"
      ],
      "metadata": {
        "id": "GaQShhUr4YjB"
      }
    },
    {
      "cell_type": "code",
      "execution_count": null,
      "metadata": {
        "id": "1NWEJFchdJZH"
      },
      "outputs": [],
      "source": [
        "import pandas as pd\n",
        "import numpy as np\n",
        "import scipy\n",
        "import matplotlib.pyplot as plt\n",
        "import seaborn as sns\n",
        "# import plotly.express as px\n",
        "# import plotly.graph_objs as go\n",
        "import re\n",
        "import string\n",
        "from wordcloud import WordCloud\n",
        "import nltk\n",
        "from nltk.corpus import stopwords\n",
        "from nltk.tokenize import word_tokenize\n",
        "\n",
        "import gensim\n",
        "from gensim.models.word2vec import Word2Vec, KeyedVectors\n",
        "from gensim.models.doc2vec import Doc2Vec, TaggedDocument\n",
        "\n",
        "from sklearn.model_selection import  train_test_split\n",
        "from sklearn.preprocessing import StandardScaler, MinMaxScaler\n",
        "from sklearn.metrics import classification_report, confusion_matrix, ConfusionMatrixDisplay\n",
        "import tensorflow as tf\n",
        "from tensorflow.keras.preprocessing.text import Tokenizer\n",
        "from tensorflow.keras.preprocessing.sequence import pad_sequences\n",
        "from tensorflow.keras.models import Sequential\n",
        "from tensorflow.keras.layers import LSTM, Embedding, Dense, Dropout, SpatialDropout1D"
      ]
    },
    {
      "cell_type": "code",
      "source": [
        "nltk.download('stopwords')\n",
        "nltk.download('punkt')"
      ],
      "metadata": {
        "colab": {
          "base_uri": "https://localhost:8080/"
        },
        "id": "EF39DljtOkeG",
        "outputId": "1d54f85d-7a71-4a6d-b2e4-092cb3a84760"
      },
      "execution_count": null,
      "outputs": [
        {
          "output_type": "stream",
          "name": "stderr",
          "text": [
            "[nltk_data] Downloading package stopwords to /root/nltk_data...\n",
            "[nltk_data]   Package stopwords is already up-to-date!\n",
            "[nltk_data] Downloading package punkt to /root/nltk_data...\n",
            "[nltk_data]   Package punkt is already up-to-date!\n"
          ]
        },
        {
          "output_type": "execute_result",
          "data": {
            "text/plain": [
              "True"
            ]
          },
          "metadata": {},
          "execution_count": 44
        }
      ]
    },
    {
      "cell_type": "code",
      "source": [
        "pd.set_option('display.max_columns', 100)\n",
        "pd.set_option('display.max_rows', 200)"
      ],
      "metadata": {
        "id": "wRsvrFTTFUi7"
      },
      "execution_count": null,
      "outputs": []
    },
    {
      "cell_type": "code",
      "source": [
        "df = pd.read_csv('/content/drive/MyDrive/Colab Notebooks/superstore_products_new.csv', usecols=['product_name','category'])"
      ],
      "metadata": {
        "id": "dpnsH-L-dQZM"
      },
      "execution_count": null,
      "outputs": []
    },
    {
      "cell_type": "code",
      "source": [
        "df.loc[df['product_name'].duplicated()]"
      ],
      "metadata": {
        "id": "lLjKlkmRKP3R",
        "colab": {
          "base_uri": "https://localhost:8080/",
          "height": 53
        },
        "outputId": "9889807e-3a15-47a3-e7ed-796fe9efbe7a"
      },
      "execution_count": null,
      "outputs": [
        {
          "output_type": "execute_result",
          "data": {
            "text/plain": [
              "Empty DataFrame\n",
              "Columns: [category, product_name]\n",
              "Index: []"
            ],
            "text/html": [
              "\n",
              "  <div id=\"df-f4595c38-558b-4d14-a26b-f49f5c3ab032\" class=\"colab-df-container\">\n",
              "    <div>\n",
              "<style scoped>\n",
              "    .dataframe tbody tr th:only-of-type {\n",
              "        vertical-align: middle;\n",
              "    }\n",
              "\n",
              "    .dataframe tbody tr th {\n",
              "        vertical-align: top;\n",
              "    }\n",
              "\n",
              "    .dataframe thead th {\n",
              "        text-align: right;\n",
              "    }\n",
              "</style>\n",
              "<table border=\"1\" class=\"dataframe\">\n",
              "  <thead>\n",
              "    <tr style=\"text-align: right;\">\n",
              "      <th></th>\n",
              "      <th>category</th>\n",
              "      <th>product_name</th>\n",
              "    </tr>\n",
              "  </thead>\n",
              "  <tbody>\n",
              "  </tbody>\n",
              "</table>\n",
              "</div>\n",
              "    <div class=\"colab-df-buttons\">\n",
              "\n",
              "  <div class=\"colab-df-container\">\n",
              "    <button class=\"colab-df-convert\" onclick=\"convertToInteractive('df-f4595c38-558b-4d14-a26b-f49f5c3ab032')\"\n",
              "            title=\"Convert this dataframe to an interactive table.\"\n",
              "            style=\"display:none;\">\n",
              "\n",
              "  <svg xmlns=\"http://www.w3.org/2000/svg\" height=\"24px\" viewBox=\"0 -960 960 960\">\n",
              "    <path d=\"M120-120v-720h720v720H120Zm60-500h600v-160H180v160Zm220 220h160v-160H400v160Zm0 220h160v-160H400v160ZM180-400h160v-160H180v160Zm440 0h160v-160H620v160ZM180-180h160v-160H180v160Zm440 0h160v-160H620v160Z\"/>\n",
              "  </svg>\n",
              "    </button>\n",
              "\n",
              "  <style>\n",
              "    .colab-df-container {\n",
              "      display:flex;\n",
              "      gap: 12px;\n",
              "    }\n",
              "\n",
              "    .colab-df-convert {\n",
              "      background-color: #E8F0FE;\n",
              "      border: none;\n",
              "      border-radius: 50%;\n",
              "      cursor: pointer;\n",
              "      display: none;\n",
              "      fill: #1967D2;\n",
              "      height: 32px;\n",
              "      padding: 0 0 0 0;\n",
              "      width: 32px;\n",
              "    }\n",
              "\n",
              "    .colab-df-convert:hover {\n",
              "      background-color: #E2EBFA;\n",
              "      box-shadow: 0px 1px 2px rgba(60, 64, 67, 0.3), 0px 1px 3px 1px rgba(60, 64, 67, 0.15);\n",
              "      fill: #174EA6;\n",
              "    }\n",
              "\n",
              "    .colab-df-buttons div {\n",
              "      margin-bottom: 4px;\n",
              "    }\n",
              "\n",
              "    [theme=dark] .colab-df-convert {\n",
              "      background-color: #3B4455;\n",
              "      fill: #D2E3FC;\n",
              "    }\n",
              "\n",
              "    [theme=dark] .colab-df-convert:hover {\n",
              "      background-color: #434B5C;\n",
              "      box-shadow: 0px 1px 3px 1px rgba(0, 0, 0, 0.15);\n",
              "      filter: drop-shadow(0px 1px 2px rgba(0, 0, 0, 0.3));\n",
              "      fill: #FFFFFF;\n",
              "    }\n",
              "  </style>\n",
              "\n",
              "    <script>\n",
              "      const buttonEl =\n",
              "        document.querySelector('#df-f4595c38-558b-4d14-a26b-f49f5c3ab032 button.colab-df-convert');\n",
              "      buttonEl.style.display =\n",
              "        google.colab.kernel.accessAllowed ? 'block' : 'none';\n",
              "\n",
              "      async function convertToInteractive(key) {\n",
              "        const element = document.querySelector('#df-f4595c38-558b-4d14-a26b-f49f5c3ab032');\n",
              "        const dataTable =\n",
              "          await google.colab.kernel.invokeFunction('convertToInteractive',\n",
              "                                                    [key], {});\n",
              "        if (!dataTable) return;\n",
              "\n",
              "        const docLinkHtml = 'Like what you see? Visit the ' +\n",
              "          '<a target=\"_blank\" href=https://colab.research.google.com/notebooks/data_table.ipynb>data table notebook</a>'\n",
              "          + ' to learn more about interactive tables.';\n",
              "        element.innerHTML = '';\n",
              "        dataTable['output_type'] = 'display_data';\n",
              "        await google.colab.output.renderOutput(dataTable, element);\n",
              "        const docLink = document.createElement('div');\n",
              "        docLink.innerHTML = docLinkHtml;\n",
              "        element.appendChild(docLink);\n",
              "      }\n",
              "    </script>\n",
              "  </div>\n",
              "\n",
              "\n",
              "    </div>\n",
              "  </div>\n"
            ],
            "application/vnd.google.colaboratory.intrinsic+json": {
              "type": "dataframe",
              "repr_error": "Out of range float values are not JSON compliant: nan"
            }
          },
          "metadata": {},
          "execution_count": 6
        }
      ]
    },
    {
      "cell_type": "code",
      "source": [],
      "metadata": {
        "id": "D2tZ_AjgGoe7"
      },
      "execution_count": null,
      "outputs": []
    },
    {
      "cell_type": "code",
      "source": [
        "category_counts = df.groupby(['category']).size().to_frame().rename(columns={0:'counts'})\n",
        "sns.barplot(category_counts, y='counts', x='category', hue='category', palette=['#7851A9','#FF7518', '#89CFF0'], width=0.7)\n",
        "for i, c in enumerate(category_counts['counts']):\n",
        "  plt.text(i, c, str(c), ha='center')\n",
        "sns.despine()\n",
        "plt.plot()"
      ],
      "metadata": {
        "colab": {
          "base_uri": "https://localhost:8080/",
          "height": 466
        },
        "id": "h2W5Ny2Nc6fG",
        "outputId": "40373c5a-227b-428b-96be-305629cc7ce9"
      },
      "execution_count": null,
      "outputs": [
        {
          "output_type": "execute_result",
          "data": {
            "text/plain": [
              "[]"
            ]
          },
          "metadata": {},
          "execution_count": 47
        },
        {
          "output_type": "display_data",
          "data": {
            "text/plain": [
              "<Figure size 640x480 with 1 Axes>"
            ],
            "image/png": "[encoded data removed]"
          },
          "metadata": {}
        }
      ]
    },
    {
      "cell_type": "code",
      "source": [
        "def prep_tokenised(text:str, token:bool=True)->str:\n",
        "  text = re.sub(r\"[^\\w\\s_]\", ' ', text)\n",
        "  text = ' '.join([word for word in text.split() if word not in stopwords.words('english') and len(word)>2])\n",
        "  if token:\n",
        "    return word_tokenize(text.lower())\n",
        "  else:\n",
        "    return text.lower()"
      ],
      "metadata": {
        "id": "FBVRhfyksSyd"
      },
      "execution_count": null,
      "outputs": []
    },
    {
      "cell_type": "code",
      "source": [
        "df['prep_product_name'] = df['product_name'].apply(lambda txt: prep_tokenised(txt, token=False))\n",
        "df['tokens'] = df['product_name'].apply(prep_tokenised)"
      ],
      "metadata": {
        "id": "9D4i6Nhu4VXI"
      },
      "execution_count": null,
      "outputs": []
    },
    {
      "cell_type": "code",
      "source": [
        "df['category'] = df['category'].apply(str.lower)"
      ],
      "metadata": {
        "id": "VNtvyl6SKwHC"
      },
      "execution_count": null,
      "outputs": []
    },
    {
      "source": [
        "len_list = [len(tk) for tk in df['tokens']]\n",
        "print(max(len_list), sum(len_list))"
      ],
      "cell_type": "code",
      "execution_count": null,
      "outputs": [
        {
          "output_type": "stream",
          "name": "stdout",
          "text": [
            "16 9107\n"
          ]
        }
      ],
      "metadata": {
        "cellView": "form",
        "id": "w35AwyKjJKdw",
        "colab": {
          "base_uri": "https://localhost:8080/"
        },
        "outputId": "1d7de17e-0b80-4e96-882c-e2f5fba1ff6f"
      }
    },
    {
      "cell_type": "code",
      "source": [
        "tagged_doc = df.apply(lambda dt: TaggedDocument(words=dt['tokens'], tags=dt['category']), axis=1)\n",
        "\n",
        "# tagged_doc =  TaggedDocument(words=df['tokens'].values, tags=df['category'].values)\n",
        "tagged_doc.values"
      ],
      "metadata": {
        "colab": {
          "base_uri": "https://localhost:8080/"
        },
        "id": "OMvKxRmvNxa6",
        "outputId": "83c95ff2-dea0-4c5a-eabf-689f0306cccb"
      },
      "execution_count": null,
      "outputs": [
        {
          "output_type": "execute_result",
          "data": {
            "text/plain": [
              "array([TaggedDocument(words=['while', 'were', 'out', 'message', 'book', 'one', 'form', 'per', 'page'], tags='office supplies'),\n",
              "       TaggedDocument(words=['gummed', 'flap', 'white', 'envelopes', '100', 'box'], tags='office supplies'),\n",
              "       TaggedDocument(words=['self', 'seal', 'white', 'envelopes'], tags='office supplies'),\n",
              "       ...,\n",
              "       TaggedDocument(words=['zebra', 'zazzle', 'fluorescent', 'highlighters'], tags='office supplies'),\n",
              "       TaggedDocument(words=['zebra', 'zm400', 'thermal', 'label', 'printer'], tags='technology'),\n",
              "       TaggedDocument(words=['zipper', 'ring', 'binder', 'pockets'], tags='office supplies')],\n",
              "      dtype=object)"
            ]
          },
          "metadata": {},
          "execution_count": 52
        }
      ]
    },
    {
      "cell_type": "code",
      "source": [
        "d2v_model = Doc2Vec(tagged_doc, vector_size=10, window=5,\n",
        "                    min_count=1, dm=1, epochs=20)\n",
        "#d2v_model.build_vocab([x for x in tagged_doc])"
      ],
      "metadata": {
        "id": "YruWCMiPREWy"
      },
      "execution_count": null,
      "outputs": []
    },
    {
      "cell_type": "code",
      "source": [
        "print(len(d2v_model.wv.index_to_key), d2v_model.dv.vectors.shape)"
      ],
      "metadata": {
        "colab": {
          "base_uri": "https://localhost:8080/"
        },
        "id": "7qKGXBCdUT67",
        "outputId": "28f52fe9-0224-4f8a-b6e0-ff17157c7756"
      },
      "execution_count": null,
      "outputs": [
        {
          "output_type": "stream",
          "name": "stdout",
          "text": [
            "2369 (16, 10)\n"
          ]
        }
      ]
    },
    {
      "cell_type": "code",
      "source": [
        "d2v_model.dv.vectors"
      ],
      "metadata": {
        "colab": {
          "base_uri": "https://localhost:8080/"
        },
        "id": "QV8XtlTiU1ep",
        "outputId": "535fd97c-ad2f-4832-dc3c-e4d51d68838d"
      },
      "execution_count": null,
      "outputs": [
        {
          "output_type": "execute_result",
          "data": {
            "text/plain": [
              "array([[ 2.8335567 ,  4.338798  , -7.3684916 , -4.5740376 ,  1.7193834 ,\n",
              "         4.973811  , -7.5164557 , -1.1003654 , -9.341978  , -4.830738  ],\n",
              "       [-0.5726626 ,  2.792707  , -2.372222  , -2.905202  ,  3.205652  ,\n",
              "        -4.7593455 ,  5.429566  , -3.3197465 ,  4.511555  , -1.6777605 ],\n",
              "       [-0.63866746,  2.7723432 , -2.3861637 , -2.8475375 ,  3.2944682 ,\n",
              "        -4.7531877 ,  5.3245406 , -3.5115366 ,  4.655933  , -1.7344135 ],\n",
              "       [ 2.018305  ,  3.3090367 , -3.3106127 , -2.688803  ,  2.3851843 ,\n",
              "         2.4413471 , -1.653393  , -1.3188919 , -4.5143037 , -2.6675005 ],\n",
              "       [ 0.3043774 ,  3.8315187 , -6.3115106 , -4.97548   ,  2.5495906 ,\n",
              "        -2.1719303 , -0.3648101 , -3.2478156 , -0.10587405, -3.8892698 ],\n",
              "       [ 1.0127903 ,  2.0825403 ,  0.71207386, -0.69292337,  3.0923607 ,\n",
              "        -0.03342357,  4.1278467 , -1.3828375 ,  0.23085664, -0.43058622],\n",
              "       [ 2.0971382 ,  4.259782  ,  1.6004419 , -1.2973402 ,  6.2457924 ,\n",
              "        -0.28703588,  8.338882  , -2.8181138 ,  0.55393136, -1.0962982 ],\n",
              "       [-4.3841314 , -0.76648027, -7.0832715 , -3.956651  , -2.9415767 ,\n",
              "        -8.958149  , -1.6708852 , -2.6472676 ,  8.369291  , -1.7095891 ],\n",
              "       [ 2.1514845 ,  4.213623  ,  1.4628403 , -1.258735  ,  6.301917  ,\n",
              "        -0.21619943,  8.307915  , -2.885261  ,  0.64138806, -1.0209923 ],\n",
              "       [ 1.8838588 ,  3.3096743 , -3.3432474 , -2.7251904 ,  2.3489852 ,\n",
              "         2.5242543 , -1.6074505 , -1.2535857 , -4.3893256 , -2.6613064 ],\n",
              "       [-5.3934393 , -2.8731713 , -7.832037  , -3.1993032 , -6.0421715 ,\n",
              "        -8.878513  , -5.757785  , -1.0781753 ,  8.126486  , -1.1772001 ],\n",
              "       [-1.7441759 , -0.31008545, -7.9299555 , -3.6882417 , -3.6119144 ,\n",
              "        -1.9687216 , -8.751995  , -0.39854953, -0.700127  , -2.6908016 ],\n",
              "       [-1.6540592 , -0.20071416, -7.9725876 , -3.5476177 , -3.7951906 ,\n",
              "        -1.8757694 , -8.718473  , -0.39886674, -0.7103139 , -2.8487072 ],\n",
              "       [ 0.9654937 ,  1.1718049 , -4.029383  , -1.9537551 , -0.757739  ,\n",
              "         2.529583  , -5.768799  ,  0.21378943, -4.854004  , -2.2170002 ],\n",
              "       [ 1.0046573 ,  1.1667366 , -3.986993  , -2.109205  , -0.7335951 ,\n",
              "         2.5680652 , -5.7533693 ,  0.2738687 , -4.763625  , -2.2131832 ],\n",
              "       [ 0.8930464 ,  1.253737  , -3.9492848 , -2.1048    , -0.7499657 ,\n",
              "         2.6007137 , -5.770232  ,  0.2723466 , -4.825266  , -2.1970255 ]],\n",
              "      dtype=float32)"
            ]
          },
          "metadata": {},
          "execution_count": 31
        }
      ]
    },
    {
      "cell_type": "code",
      "source": [
        "embedding_vec = np.zeros((len(d2v_model.wv.index_to_key)+ 1, 10))\n",
        "for i, v in enumerate(d2v_model.dv.vectors):\n",
        "    while i in v <= 1000:\n",
        "      embedding_vec[i]=v"
      ],
      "metadata": {
        "id": "WA96bcF3U2nN"
      },
      "execution_count": null,
      "outputs": []
    },
    {
      "cell_type": "markdown",
      "source": [
        "# LSTM"
      ],
      "metadata": {
        "id": "4D8Qsc644WCj"
      }
    },
    {
      "cell_type": "code",
      "source": [],
      "metadata": {
        "id": "WFuZAr5qU0Bb"
      },
      "execution_count": null,
      "outputs": []
    },
    {
      "cell_type": "code",
      "source": [
        "max_word_num = 20000\n",
        "max_seq = 30"
      ],
      "metadata": {
        "id": "VEobjUyc4Rln"
      },
      "execution_count": null,
      "outputs": []
    },
    {
      "cell_type": "code",
      "source": [
        "tokeniser = Tokenizer(num_words=max_word_num)\n",
        "tokeniser.fit_on_texts(df['prep_product_name'].values)\n",
        "\n",
        "X = tokeniser.texts_to_sequences(df['prep_product_name'].values)\n",
        "X = pad_sequences(X, maxlen=max_seq, truncating='post')"
      ],
      "metadata": {
        "id": "zuskB70RAd9F"
      },
      "execution_count": null,
      "outputs": []
    },
    {
      "cell_type": "code",
      "source": [
        "print('unique tokens:',len(tokeniser.word_index))\n",
        "print('padded shape:', X.shape)"
      ],
      "metadata": {
        "colab": {
          "base_uri": "https://localhost:8080/"
        },
        "id": "wwfcldRvLudA",
        "outputId": "41143e0b-01a4-4c55-e817-b904f58134ba"
      },
      "execution_count": null,
      "outputs": [
        {
          "output_type": "stream",
          "name": "stdout",
          "text": [
            "unique tokens: 2369\n",
            "padded shape: (1786, 30)\n"
          ]
        }
      ]
    },
    {
      "cell_type": "code",
      "source": [
        "Y = pd.get_dummies(df['category']).values.astype(int)\n",
        "# Y = tf.keras.utils.to_categorical(df['category'], 3)\n",
        "Y"
      ],
      "metadata": {
        "colab": {
          "base_uri": "https://localhost:8080/"
        },
        "id": "73iIM7qPLrlY",
        "outputId": "7ba4395b-cf71-4d2e-944c-bfa6a9f40577"
      },
      "execution_count": null,
      "outputs": [
        {
          "output_type": "execute_result",
          "data": {
            "text/plain": [
              "array([[0, 1, 0],\n",
              "       [0, 1, 0],\n",
              "       [0, 1, 0],\n",
              "       ...,\n",
              "       [0, 1, 0],\n",
              "       [0, 0, 1],\n",
              "       [0, 1, 0]])"
            ]
          },
          "metadata": {},
          "execution_count": 77
        }
      ]
    },
    {
      "cell_type": "code",
      "source": [
        "X_train, X_test, y_train, y_test = train_test_split(X,Y, test_size = 0.2, random_state = 100)"
      ],
      "metadata": {
        "id": "fq7FWs2ONvas"
      },
      "execution_count": null,
      "outputs": []
    },
    {
      "cell_type": "code",
      "source": [
        "model = Sequential()\n",
        "model.add(Embedding(2370, 10, input_length=X.shape[1], weights=embedding_vec, trainable=True))\n",
        "model.add(SpatialDropout1D(0.2))\n",
        "model.add(LSTM(64, return_sequences=False))\n",
        "model.add(Dropout(0.2))\n",
        "model.add(Dense(3, activation='softmax'))\n",
        "model.summary()"
      ],
      "metadata": {
        "colab": {
          "base_uri": "https://localhost:8080/",
          "height": 359
        },
        "id": "nlRY-HjCAq-5",
        "outputId": "2b12fdfc-c8bd-4075-db88-39156f8607bb"
      },
      "execution_count": null,
      "outputs": [
        {
          "output_type": "stream",
          "name": "stderr",
          "text": [
            "/usr/local/lib/python3.10/dist-packages/keras/src/layers/core/embedding.py:90: UserWarning: Argument `input_length` is deprecated. Just remove it.\n",
            "  warnings.warn(\n"
          ]
        },
        {
          "output_type": "display_data",
          "data": {
            "text/plain": [
              "\u001b[1mModel: \"sequential_6\"\u001b[0m\n"
            ],
            "text/html": [
              "<pre style=\"white-space:pre;overflow-x:auto;line-height:normal;font-family:Menlo,'DejaVu Sans Mono',consolas,'Courier New',monospace\"><span style=\"font-weight: bold\">Model: \"sequential_6\"</span>\n",
              "</pre>\n"
            ]
          },
          "metadata": {}
        },
        {
          "output_type": "display_data",
          "data": {
            "text/plain": [
              "┏━━━━━━━━━━━━━━━━━━━━━━━━━━━━━━━━━━━━━━┳━━━━━━━━━━━━━━━━━━━━━━━━━━━━━┳━━━━━━━━━━━━━━━━━┓\n",
              "┃\u001b[1m \u001b[0m\u001b[1mLayer (type)                        \u001b[0m\u001b[1m \u001b[0m┃\u001b[1m \u001b[0m\u001b[1mOutput Shape               \u001b[0m\u001b[1m \u001b[0m┃\u001b[1m \u001b[0m\u001b[1m        Param #\u001b[0m\u001b[1m \u001b[0m┃\n",
              "┡━━━━━━━━━━━━━━━━━━━━━━━━━━━━━━━━━━━━━━╇━━━━━━━━━━━━━━━━━━━━━━━━━━━━━╇━━━━━━━━━━━━━━━━━┩\n",
              "│ embedding_6 (\u001b[38;5;33mEmbedding\u001b[0m)              │ ?                           │          \u001b[38;5;34m23,700\u001b[0m │\n",
              "├──────────────────────────────────────┼─────────────────────────────┼─────────────────┤\n",
              "│ spatial_dropout1d_3                  │ ?                           │     \u001b[38;5;34m0\u001b[0m (unbuilt) │\n",
              "│ (\u001b[38;5;33mSpatialDropout1D\u001b[0m)                   │                             │                 │\n",
              "├──────────────────────────────────────┼─────────────────────────────┼─────────────────┤\n",
              "│ lstm_3 (\u001b[38;5;33mLSTM\u001b[0m)                        │ ?                           │     \u001b[38;5;34m0\u001b[0m (unbuilt) │\n",
              "├──────────────────────────────────────┼─────────────────────────────┼─────────────────┤\n",
              "│ dropout_3 (\u001b[38;5;33mDropout\u001b[0m)                  │ ?                           │     \u001b[38;5;34m0\u001b[0m (unbuilt) │\n",
              "├──────────────────────────────────────┼─────────────────────────────┼─────────────────┤\n",
              "│ dense_3 (\u001b[38;5;33mDense\u001b[0m)                      │ ?                           │     \u001b[38;5;34m0\u001b[0m (unbuilt) │\n",
              "└──────────────────────────────────────┴─────────────────────────────┴─────────────────┘\n"
            ],
            "text/html": [
              "<pre style=\"white-space:pre;overflow-x:auto;line-height:normal;font-family:Menlo,'DejaVu Sans Mono',consolas,'Courier New',monospace\">┏━━━━━━━━━━━━━━━━━━━━━━━━━━━━━━━━━━━━━━┳━━━━━━━━━━━━━━━━━━━━━━━━━━━━━┳━━━━━━━━━━━━━━━━━┓\n",
              "┃<span style=\"font-weight: bold\"> Layer (type)                         </span>┃<span style=\"font-weight: bold\"> Output Shape                </span>┃<span style=\"font-weight: bold\">         Param # </span>┃\n",
              "┡━━━━━━━━━━━━━━━━━━━━━━━━━━━━━━━━━━━━━━╇━━━━━━━━━━━━━━━━━━━━━━━━━━━━━╇━━━━━━━━━━━━━━━━━┩\n",
              "│ embedding_6 (<span style=\"color: #0087ff; text-decoration-color: #0087ff\">Embedding</span>)              │ ?                           │          <span style=\"color: #00af00; text-decoration-color: #00af00\">23,700</span> │\n",
              "├──────────────────────────────────────┼─────────────────────────────┼─────────────────┤\n",
              "│ spatial_dropout1d_3                  │ ?                           │     <span style=\"color: #00af00; text-decoration-color: #00af00\">0</span> (unbuilt) │\n",
              "│ (<span style=\"color: #0087ff; text-decoration-color: #0087ff\">SpatialDropout1D</span>)                   │                             │                 │\n",
              "├──────────────────────────────────────┼─────────────────────────────┼─────────────────┤\n",
              "│ lstm_3 (<span style=\"color: #0087ff; text-decoration-color: #0087ff\">LSTM</span>)                        │ ?                           │     <span style=\"color: #00af00; text-decoration-color: #00af00\">0</span> (unbuilt) │\n",
              "├──────────────────────────────────────┼─────────────────────────────┼─────────────────┤\n",
              "│ dropout_3 (<span style=\"color: #0087ff; text-decoration-color: #0087ff\">Dropout</span>)                  │ ?                           │     <span style=\"color: #00af00; text-decoration-color: #00af00\">0</span> (unbuilt) │\n",
              "├──────────────────────────────────────┼─────────────────────────────┼─────────────────┤\n",
              "│ dense_3 (<span style=\"color: #0087ff; text-decoration-color: #0087ff\">Dense</span>)                      │ ?                           │     <span style=\"color: #00af00; text-decoration-color: #00af00\">0</span> (unbuilt) │\n",
              "└──────────────────────────────────────┴─────────────────────────────┴─────────────────┘\n",
              "</pre>\n"
            ]
          },
          "metadata": {}
        },
        {
          "output_type": "display_data",
          "data": {
            "text/plain": [
              "\u001b[1m Total params: \u001b[0m\u001b[38;5;34m23,700\u001b[0m (92.58 KB)\n"
            ],
            "text/html": [
              "<pre style=\"white-space:pre;overflow-x:auto;line-height:normal;font-family:Menlo,'DejaVu Sans Mono',consolas,'Courier New',monospace\"><span style=\"font-weight: bold\"> Total params: </span><span style=\"color: #00af00; text-decoration-color: #00af00\">23,700</span> (92.58 KB)\n",
              "</pre>\n"
            ]
          },
          "metadata": {}
        },
        {
          "output_type": "display_data",
          "data": {
            "text/plain": [
              "\u001b[1m Trainable params: \u001b[0m\u001b[38;5;34m23,700\u001b[0m (92.58 KB)\n"
            ],
            "text/html": [
              "<pre style=\"white-space:pre;overflow-x:auto;line-height:normal;font-family:Menlo,'DejaVu Sans Mono',consolas,'Courier New',monospace\"><span style=\"font-weight: bold\"> Trainable params: </span><span style=\"color: #00af00; text-decoration-color: #00af00\">23,700</span> (92.58 KB)\n",
              "</pre>\n"
            ]
          },
          "metadata": {}
        },
        {
          "output_type": "display_data",
          "data": {
            "text/plain": [
              "\u001b[1m Non-trainable params: \u001b[0m\u001b[38;5;34m0\u001b[0m (0.00 B)\n"
            ],
            "text/html": [
              "<pre style=\"white-space:pre;overflow-x:auto;line-height:normal;font-family:Menlo,'DejaVu Sans Mono',consolas,'Courier New',monospace\"><span style=\"font-weight: bold\"> Non-trainable params: </span><span style=\"color: #00af00; text-decoration-color: #00af00\">0</span> (0.00 B)\n",
              "</pre>\n"
            ]
          },
          "metadata": {}
        }
      ]
    },
    {
      "cell_type": "code",
      "source": [
        "model.compile(optimizer='adam', loss='categorical_crossentropy', metrics=['accuracy'])"
      ],
      "metadata": {
        "id": "ABIS_eKhYokG"
      },
      "execution_count": null,
      "outputs": []
    },
    {
      "cell_type": "code",
      "source": [
        "history = model.fit(X_train, y_train, epochs=50, batch_size=32, verbose=2)"
      ],
      "metadata": {
        "colab": {
          "base_uri": "https://localhost:8080/"
        },
        "id": "Z40AO5UIaxu2",
        "outputId": "38289e04-a59f-4b5f-c7f2-b9d3869ca903"
      },
      "execution_count": null,
      "outputs": [
        {
          "output_type": "stream",
          "name": "stdout",
          "text": [
            "Epoch 1/50\n",
            "45/45 - 3s - 71ms/step - accuracy: 0.5665 - loss: 0.9958\n",
            "Epoch 2/50\n",
            "45/45 - 1s - 23ms/step - accuracy: 0.5742 - loss: 0.9197\n",
            "Epoch 3/50\n",
            "45/45 - 1s - 26ms/step - accuracy: 0.6919 - loss: 0.7000\n",
            "Epoch 4/50\n",
            "45/45 - 2s - 38ms/step - accuracy: 0.8683 - loss: 0.3827\n",
            "Epoch 5/50\n",
            "45/45 - 1s - 27ms/step - accuracy: 0.9447 - loss: 0.1837\n",
            "Epoch 6/50\n",
            "45/45 - 1s - 14ms/step - accuracy: 0.9762 - loss: 0.0841\n",
            "Epoch 7/50\n",
            "45/45 - 1s - 13ms/step - accuracy: 0.9923 - loss: 0.0511\n",
            "Epoch 8/50\n",
            "45/45 - 1s - 13ms/step - accuracy: 0.9958 - loss: 0.0283\n",
            "Epoch 9/50\n",
            "45/45 - 1s - 14ms/step - accuracy: 0.9944 - loss: 0.0221\n",
            "Epoch 10/50\n",
            "45/45 - 1s - 13ms/step - accuracy: 0.9979 - loss: 0.0142\n",
            "Epoch 11/50\n",
            "45/45 - 1s - 14ms/step - accuracy: 0.9986 - loss: 0.0093\n",
            "Epoch 12/50\n",
            "45/45 - 1s - 13ms/step - accuracy: 0.9986 - loss: 0.0120\n",
            "Epoch 13/50\n",
            "45/45 - 1s - 14ms/step - accuracy: 1.0000 - loss: 0.0065\n",
            "Epoch 14/50\n",
            "45/45 - 1s - 14ms/step - accuracy: 0.9993 - loss: 0.0062\n",
            "Epoch 15/50\n",
            "45/45 - 1s - 13ms/step - accuracy: 1.0000 - loss: 0.0038\n",
            "Epoch 16/50\n",
            "45/45 - 1s - 15ms/step - accuracy: 1.0000 - loss: 0.0034\n",
            "Epoch 17/50\n",
            "45/45 - 1s - 13ms/step - accuracy: 0.9993 - loss: 0.0047\n",
            "Epoch 18/50\n",
            "45/45 - 1s - 14ms/step - accuracy: 1.0000 - loss: 0.0029\n",
            "Epoch 19/50\n",
            "45/45 - 1s - 14ms/step - accuracy: 1.0000 - loss: 0.0028\n",
            "Epoch 20/50\n",
            "45/45 - 1s - 14ms/step - accuracy: 1.0000 - loss: 0.0017\n",
            "Epoch 21/50\n",
            "45/45 - 1s - 14ms/step - accuracy: 1.0000 - loss: 0.0022\n",
            "Epoch 22/50\n",
            "45/45 - 2s - 35ms/step - accuracy: 1.0000 - loss: 0.0022\n",
            "Epoch 23/50\n",
            "45/45 - 1s - 28ms/step - accuracy: 1.0000 - loss: 0.0029\n",
            "Epoch 24/50\n",
            "45/45 - 1s - 24ms/step - accuracy: 0.9986 - loss: 0.0038\n",
            "Epoch 25/50\n",
            "45/45 - 1s - 24ms/step - accuracy: 1.0000 - loss: 0.0017\n",
            "Epoch 26/50\n",
            "45/45 - 1s - 14ms/step - accuracy: 1.0000 - loss: 8.5559e-04\n",
            "Epoch 27/50\n",
            "45/45 - 1s - 14ms/step - accuracy: 1.0000 - loss: 0.0011\n",
            "Epoch 28/50\n",
            "45/45 - 1s - 14ms/step - accuracy: 1.0000 - loss: 9.9263e-04\n",
            "Epoch 29/50\n",
            "45/45 - 1s - 13ms/step - accuracy: 1.0000 - loss: 0.0022\n",
            "Epoch 30/50\n",
            "45/45 - 1s - 14ms/step - accuracy: 1.0000 - loss: 0.0016\n",
            "Epoch 31/50\n",
            "45/45 - 1s - 14ms/step - accuracy: 1.0000 - loss: 0.0011\n",
            "Epoch 32/50\n",
            "45/45 - 1s - 14ms/step - accuracy: 1.0000 - loss: 0.0010\n",
            "Epoch 33/50\n",
            "45/45 - 1s - 13ms/step - accuracy: 1.0000 - loss: 0.0016\n",
            "Epoch 34/50\n",
            "45/45 - 1s - 14ms/step - accuracy: 1.0000 - loss: 9.8353e-04\n",
            "Epoch 35/50\n",
            "45/45 - 1s - 14ms/step - accuracy: 0.9986 - loss: 0.0038\n",
            "Epoch 36/50\n",
            "45/45 - 1s - 13ms/step - accuracy: 1.0000 - loss: 0.0022\n",
            "Epoch 37/50\n",
            "45/45 - 1s - 14ms/step - accuracy: 1.0000 - loss: 6.2501e-04\n",
            "Epoch 38/50\n",
            "45/45 - 1s - 14ms/step - accuracy: 1.0000 - loss: 0.0015\n",
            "Epoch 39/50\n",
            "45/45 - 1s - 15ms/step - accuracy: 1.0000 - loss: 4.5772e-04\n",
            "Epoch 40/50\n",
            "45/45 - 1s - 21ms/step - accuracy: 1.0000 - loss: 4.3544e-04\n",
            "Epoch 41/50\n",
            "45/45 - 1s - 29ms/step - accuracy: 1.0000 - loss: 3.5055e-04\n",
            "Epoch 42/50\n",
            "45/45 - 1s - 22ms/step - accuracy: 1.0000 - loss: 2.7662e-04\n",
            "Epoch 43/50\n",
            "45/45 - 1s - 23ms/step - accuracy: 1.0000 - loss: 3.3641e-04\n",
            "Epoch 44/50\n",
            "45/45 - 1s - 18ms/step - accuracy: 1.0000 - loss: 4.7652e-04\n",
            "Epoch 45/50\n",
            "45/45 - 1s - 23ms/step - accuracy: 1.0000 - loss: 2.8987e-04\n",
            "Epoch 46/50\n",
            "45/45 - 1s - 14ms/step - accuracy: 1.0000 - loss: 8.9243e-04\n",
            "Epoch 47/50\n",
            "45/45 - 1s - 13ms/step - accuracy: 1.0000 - loss: 4.2056e-04\n",
            "Epoch 48/50\n",
            "45/45 - 1s - 21ms/step - accuracy: 1.0000 - loss: 3.2840e-04\n",
            "Epoch 49/50\n",
            "45/45 - 1s - 22ms/step - accuracy: 1.0000 - loss: 4.0258e-04\n",
            "Epoch 50/50\n",
            "45/45 - 2s - 39ms/step - accuracy: 1.0000 - loss: 7.7576e-04\n"
          ]
        }
      ]
    },
    {
      "cell_type": "code",
      "source": [
        "plt.plot(history.history['loss'])\n",
        "plt.xlabel('Epochs')\n",
        "plt.ylabel('Loss')\n",
        "plt.show()\n",
        "\n",
        "plt.plot(history.history['accuracy'], color='orange')\n",
        "plt.xlabel('Epochs')\n",
        "plt.ylabel('Accuracy')\n",
        "plt.show()"
      ],
      "metadata": {
        "colab": {
          "base_uri": "https://localhost:8080/",
          "height": 881
        },
        "id": "EUguUSnvbTPY",
        "outputId": "82ac1e13-64d7-480b-b2fd-e3c66dafad07"
      },
      "execution_count": null,
      "outputs": [
        {
          "output_type": "display_data",
          "data": {
            "text/plain": [
              "<Figure size 640x480 with 1 Axes>"
            ],
            "image/png": "[encoded data removed]"
          },
          "metadata": {}
        },
        {
          "output_type": "display_data",
          "data": {
            "text/plain": [
              "<Figure size 640x480 with 1 Axes>"
            ],
            "image/png": "[encoded data removed]"
          },
          "metadata": {}
        }
      ]
    },
    {
      "cell_type": "code",
      "source": [
        "y_pred = model.predict(X_test)\n",
        "y_pred = y_pred.argmax(-1)\n",
        "\n",
        "y_test_class = np.argmax(y_test, axis=1)"
      ],
      "metadata": {
        "colab": {
          "base_uri": "https://localhost:8080/"
        },
        "id": "4hE9_lc0bmED",
        "outputId": "5582e7a4-ed84-4f47-fa67-59f4d8514c8d"
      },
      "execution_count": 97,
      "outputs": [
        {
          "output_type": "stream",
          "name": "stdout",
          "text": [
            "\u001b[1m12/12\u001b[0m \u001b[32m━━━━━━━━━━━━━━━━━━━━\u001b[0m\u001b[37m\u001b[0m \u001b[1m0s\u001b[0m 9ms/step\n"
          ]
        }
      ]
    },
    {
      "cell_type": "code",
      "source": [
        "cf = confusion_matrix(y_test_class, y_pred, normalize='true')\n",
        "fig, ax = plt.subplots(figsize=(12, 12))\n",
        "disp = ConfusionMatrixDisplay(cf, display_labels=[1,2,3])\n",
        "disp.plot(ax=ax)\n",
        "plt.show()"
      ],
      "metadata": {
        "colab": {
          "base_uri": "https://localhost:8080/",
          "height": 969
        },
        "id": "vHkq-btRg07g",
        "outputId": "46478863-8c82-4555-9d61-9d020a9a5716"
      },
      "execution_count": 98,
      "outputs": [
        {
          "output_type": "display_data",
          "data": {
            "text/plain": [
              "<Figure size 1200x1200 with 2 Axes>"
            ],
            "image/png": "[encoded data removed]"
          },
          "metadata": {}
        }
      ]
    },
    {
      "cell_type": "code",
      "source": [],
      "metadata": {
        "id": "OIZfBr99hcgn"
      },
      "execution_count": 98,
      "outputs": []
    },
    {
      "cell_type": "code",
      "source": [],
      "metadata": {
        "id": "mXP69REwisQN"
      },
      "execution_count": null,
      "outputs": []
    }
  ]
}